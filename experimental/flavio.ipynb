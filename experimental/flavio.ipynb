{
 "cells": [
  {
   "cell_type": "code",
   "execution_count": 8,
   "metadata": {},
   "outputs": [
    {
     "name": "stdout",
     "output_type": "stream",
     "text": [
      "  zielpunkt  travel_time_min                  geometry\n",
      "0    Ziel 1       137.062842  POINT (7.84678 47.51978)\n",
      "1    Ziel 2       145.130058  POINT (7.92162 47.43532)\n",
      "2    Ziel 3       123.763383  POINT (7.76575 47.38188)\n"
     ]
    }
   ],
   "source": [
    "import osmnx as ox\n",
    "import networkx as nx\n",
    "import geopandas as gpd\n",
    "from shapely.geometry import Point\n",
    "    # Beispielkoordinaten: Startpunkt und drei Zielpunkte\n",
    "start_coords = (47.440428621884536, 7.81519133937825)  # Berlin Zentrum\n",
    "ziel_coords = [\n",
    "    (47.448323119798, 7.8364773505699095),\n",
    "    (47.435319786025325, 7.921621395336546),\n",
    "    (47.38187952630315, 7.765752861771816)\n",
    "]\n",
    "\n",
    "# 1. Netzwerk laden (je nach Größe der Region, hier: Umkreis von Startpunkt)\n",
    "G = ox.load_graphml(\"../data/ch-bl_walk.graphml\")\n",
    "\n",
    "# 2. Nächstgelegene Knoten im Netzwerk finden\n",
    "orig_node = ox.distance.nearest_nodes(G, X=start_coords[1], Y=start_coords[0])\n",
    "ziel_nodes = [ox.distance.nearest_nodes(G, X=lon, Y=lat) for lat, lon in ziel_coords]\n",
    "\n",
    "# 3. Kürzeste Routen und ihre Dauer berechnen\n",
    "# Wir gehen davon aus, dass das Netzwerk mit Reisezeit gewichtet ist (z. B. für Fußgänger ca. 5 km/h)\n",
    "# Optional: Reisedauer als Gewicht setzen\n",
    "speed_kph = 5\n",
    "meters_per_minute = speed_kph * 1000 / 60\n",
    "for u, v, data in G.edges(data=True):\n",
    "    data['travel_time'] = data['length'] / meters_per_minute\n",
    "\n",
    "# 4. Zeiten berechnen\n",
    "zeiten = []\n",
    "for node in ziel_nodes:\n",
    "    try:\n",
    "        route_length = nx.shortest_path_length(G, orig_node, node, weight='travel_time')\n",
    "        zeiten.append(route_length)  # in Minuten\n",
    "    except nx.NetworkXNoPath:\n",
    "        zeiten.append(None)\n",
    "\n",
    "# 5. Ausgabe als GeoDataFrame\n",
    "gdf = gpd.GeoDataFrame({\n",
    "    'zielpunkt': ['Ziel 1', 'Ziel 2', 'Ziel 3'],\n",
    "    'travel_time_min': zeiten,\n",
    "    'geometry': [Point(lon, lat) for lat, lon in ziel_coords]\n",
    "}, crs='EPSG:4326')\n",
    "\n",
    "print(gdf)"
   ]
  }
 ],
 "metadata": {
  "kernelspec": {
   "display_name": "spotnov_env",
   "language": "python",
   "name": "python3"
  },
  "language_info": {
   "codemirror_mode": {
    "name": "ipython",
    "version": 3
   },
   "file_extension": ".py",
   "mimetype": "text/x-python",
   "name": "python",
   "nbconvert_exporter": "python",
   "pygments_lexer": "ipython3",
   "version": "3.13.0"
  }
 },
 "nbformat": 4,
 "nbformat_minor": 2
}
