{
 "cells": [
  {
   "cell_type": "code",
   "execution_count": 69,
   "id": "a90105b3",
   "metadata": {},
   "outputs": [],
   "source": [
    "import pandas as pd\n",
    "import geopandas as gpd\n",
    "import streamlit as st\n",
    "import matplotlib as m"
   ]
  },
  {
   "cell_type": "code",
   "execution_count": null,
   "id": "4422e667",
   "metadata": {},
   "outputs": [],
   "source": [
    "\n",
    "def Search_Interface():\n",
    "    st.title(\"Objektsuche\")\n",
    "\n",
    "    st.write(\"Suchgebiet einstellen\")\n",
    "\n",
    "\n",
    "    st.write(\"Stelle deinen Suchradius ein\")\n",
    "    search_radius = st.slider(\"Stelle den Radius ein\", 0, 100, step=10)\n",
    "\n",
    "    st.write(\"Wähle das Suchobjekt\")\n",
    "    all_search_option = [\"Bänke\", \"Feuerstellen\", \"Fussballplätze\"]\n",
    "    with st.container(border=True):\n",
    "        search_option = st.multiselect(\"Objekt\", all_search_option, default=all_search_option)\n",
    "\n",
    "    if st.button(\"Suche starten!\"):\n",
    "        st.search()"
   ]
  }
 ],
 "metadata": {
  "kernelspec": {
   "display_name": "Python 3",
   "language": "python",
   "name": "python3"
  },
  "language_info": {
   "codemirror_mode": {
    "name": "ipython",
    "version": 3
   },
   "file_extension": ".py",
   "mimetype": "text/x-python",
   "name": "python",
   "nbconvert_exporter": "python",
   "pygments_lexer": "ipython3",
   "version": "3.13.0"
  }
 },
 "nbformat": 4,
 "nbformat_minor": 5
}
