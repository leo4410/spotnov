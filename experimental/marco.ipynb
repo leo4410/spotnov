{
 "cells": [
  {
   "cell_type": "code",
   "execution_count": null,
   "metadata": {},
   "outputs": [],
   "source": [
    "\n",
    "import osmnx as ox\n",
    "import networkx as nx\n",
    "import geopandas as gpd\n",
    "from shapely.geometry import Point\n",
    "\n",
    "ox.settings.overpass_max_area = 1000e6  # z. B. 10 Millionen m² = 10 km²\n",
    "\n",
    "\n",
    "# Beispielkoordinaten: Startpunkt und drei Zielpunkte\n",
    "start_coords = (52.5200, 13.4050)  # Berlin Zentrum\n",
    "ziel_coords = [\n",
    "    (52.5150, 13.4540),\n",
    "    (52.5000, 13.4000),\n",
    "    (52.5300, 13.3900)\n",
    "]\n",
    "\n",
    "# 1. Netzwerk laden (je nach Größe der Region, hier: Umkreis von Startpunkt)\n",
    "G = ox.graph_from_place(\"Basel-Landschaft, Switzerland\", network_type=\"walk\")\n",
    "ox.save_graphml(G, \"ch-bl_walk.graphml\")\n"
   ]
  }
 ],
 "metadata": {
  "language_info": {
   "name": "python"
  }
 },
 "nbformat": 4,
 "nbformat_minor": 2
}
